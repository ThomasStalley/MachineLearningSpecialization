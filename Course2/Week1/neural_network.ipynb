{
 "cells": [
  {
   "cell_type": "code",
   "execution_count": null,
   "metadata": {},
   "outputs": [],
   "source": [
    "\"\"\"NEURAL NETWORKS\"\"\"\n",
    "\n",
    "# neural networks:\n",
    "# > goal was/is to mimic the human brain.\n",
    "# > input layer has features.\n",
    "# > hidden layer(s) perform computations.\n",
    "# > output layer outputs one number, the final activation/prediction.\n",
    "\n",
    "# human brain neuron:\n",
    "# > cell body, with nucleus in middle.\n",
    "# > cell body has inputs via dendrites.\n",
    "# > cell body sends outputs via axon.\n",
    "# > output becomes input to another neuron.\n",
    "\n",
    "# mathematic model neuron:\n",
    "# > inputs are just numbers.\n",
    "# > outputs one number.\n",
    "# > this output is input elsewhere.\n",
    "# > so the 'cell body' will perform some sort of computation.\n",
    "\n",
    "# case study - selling tshirts:\n",
    "# > could input price & shipping cost into neuron and output affordability.\n",
    "# > could input price & material into neuron and output perceived quality.\n",
    "# > could input marketing into neuron and output consumer awareness.\n",
    "# > then all of these neurons are inputs into another, that outputs chance of being best seller.\n",
    "# > four input numbers are one layer (input layer).\n",
    "# > first three neurons are one layer (a hidden layer).\n",
    "# > final solo neuron is a layer also (output layer).\n",
    "# > affordability, perceived quality and consumer awareness are activations.\n",
    "# > Each neuron in a layer has access to all features/values from previous layer.\n",
    "# > So first layer will have access to all features in input layer.\n",
    "# > The neuron may learn to ignore features of no use to it.\n",
    "# > input layer = feature vector = \\vec{x} = (price, shipping, marketing, material).\n",
    "# > first layer = also a vector = \\vec{a} = (affordability, perceived quality, awareness).\n",
    "# > each neuron outputs the output of a logistic regression model as its activation, a.\n",
    "# > activation = a_i^{[l]} = sigmoid(z) = g(z) = g(w_i^{[l]}·a^{[l-1]} + b_i^{[l]}).\n",
    "# > output of layer 2 = [2] = a^{[2]} = input to layer 3.\n",
    "# > can reduce final output to a binary prediction with is a[final] >= 0.5 etc.\n",
    "\n",
    "# > layer_1 = Dense(units=25, activation='sigmoid')\n",
    "# > a1 = layer_1(x)\n",
    "# > layer_2 = Dense(units=15, activation='sigmoid')\n",
    "# > a2 = layer_1(a1)\n",
    "# > layer_3 = Dense(units=1, activation='sigmoid')\n",
    "# > a3 = layer_1(a2)\n",
    "# > use a3 for binary prediction !\n",
    "\n",
    "# case study - face recognition:\n",
    "# > each pixel in an image is represented by a number.\n",
    "# > these numbers form the feature vector = input layer.\n",
    "# > an early layer may be looking for edges and lines etc.\n",
    "# > a middle layer may be searching for eyes and noses and ears etc.\n",
    "# > a later layer may be searching for larger face areas etc.\n",
    "# > a 3 unit layer will have W1, W2, W3, and b1, b2, b3.\n",
    "# > each unit will perform dot(W_i^[l], a^[l-1]) etc.\n",
    "\n",
    "# case study - digit recognition:\n",
    "# > 8x8 image has 64 pixels, each with own numbers.\n",
    "# > so feature vector will have 64 numbers.\n",
    "# > layer1 has 25 units, layer2 has 15 units, layer3 has 1 unit.\n",
    "# > output as probability that digit is a 1, classify into y or n (a_1^{[3]} >= 0.5 etc).\n",
    "# > forward propagation: input layer -> hidden layers -> output layer -> prediction.\n",
    "\n",
    "# build a neural network with tensor flow:\n",
    "# > layer_1 = tf.Dense(units=3, activation=\"sigmoid\")\n",
    "# > layer_2 = tf.Dense(units=1, activation=\"sigmoid\")\n",
    "# > model = Sequential([layer_1, layer_2])\n",
    "# > ...\n",
    "# > X = np.array([[200.0, 17.0], [120.0, 157.0], [425.0, 20.0], [212.0, 18.0]])\n",
    "# > y = np.array([1, 0, 0, 1])\n",
    "# > ...\n",
    "# > model.compile()\n",
    "# > model.fit()\n",
    "# > ...\n",
    "# > model.predict()"
   ]
  },
  {
   "cell_type": "code",
   "execution_count": 60,
   "metadata": {},
   "outputs": [],
   "source": [
    "import matplotlib.pyplot as plt\n",
    "import numpy as np\n",
    "import tensorflow as tf\n",
    "from tensorflow.keras import Sequential"
   ]
  },
  {
   "cell_type": "code",
   "execution_count": 61,
   "metadata": {},
   "outputs": [
    {
     "data": {
      "image/png": "[encoded data removed]",
      "text/plain": [
       "<Figure size 1400x400 with 1 Axes>"
      ]
     },
     "metadata": {},
     "output_type": "display_data"
    }
   ],
   "source": [
    "X_train = np.array([0., 1, 2, 3, 4, 5], dtype=np.float32).reshape(-1,1)\n",
    "Y_train = np.array([0,  0, 0, 1, 1, 1], dtype=np.float32).reshape(-1,1)\n",
    "\n",
    "pos = Y_train == 1\n",
    "neg = Y_train == 0\n",
    "\n",
    "fig,ax = plt.subplots(1,1,figsize=(14,4))\n",
    "ax.scatter(X_train[pos], Y_train[pos], marker='x', s=80, c='red', label=\"y=1\")\n",
    "ax.scatter(X_train[neg], Y_train[neg], marker='o', s=100, c='blue', label=\"y=0\", lw=3)\n",
    "ax.set_ylim(-0.08,1.1)\n",
    "ax.set_ylabel('y', fontsize=12)\n",
    "ax.set_xlabel('x', fontsize=12)\n",
    "ax.set_title('one variable plot')\n",
    "ax.legend(fontsize=12)\n",
    "plt.show()"
   ]
  },
  {
   "cell_type": "code",
   "execution_count": 62,
   "metadata": {},
   "outputs": [
    {
     "name": "stdout",
     "output_type": "stream",
     "text": [
      "Logistic regression model:\n",
      "w: [[-0.71483743]]\n",
      "b: [[-0.71483743]]\n"
     ]
    },
    {
     "name": "stderr",
     "output_type": "stream",
     "text": [
      "/Users/tstalley/PycharmProjects/MachineLearningSpecialization/.venv/lib/python3.9/site-packages/keras/src/layers/core/dense.py:87: UserWarning: Do not pass an `input_shape`/`input_dim` argument to a layer. When using Sequential models, prefer using an `Input(shape)` object as the first layer in the model instead.\n",
      "  super().__init__(activity_regularizer=activity_regularizer, **kwargs)\n"
     ]
    }
   ],
   "source": [
    "# logistic regression neuuron:\n",
    "model = Sequential([tf.keras.layers.Dense(1, input_dim=1,  activation = 'sigmoid', name='L1')])\n",
    "\n",
    "logistic_layer = model.get_layer('L1')\n",
    "w,b = logistic_layer.get_weights()\n",
    "print(\"Logistic regression model:\")\n",
    "print(f\"w: {w}\")\n",
    "print(f\"b: {w}\")"
   ]
  },
  {
   "cell_type": "code",
   "execution_count": 63,
   "metadata": {},
   "outputs": [],
   "source": [
    "# set weight and bias:\n",
    "set_w = np.array([[2]])\n",
    "set_b = np.array([-4.5])\n",
    "logistic_layer.set_weights([set_w, set_b])"
   ]
  },
  {
   "cell_type": "code",
   "execution_count": 64,
   "metadata": {},
   "outputs": [
    {
     "name": "stdout",
     "output_type": "stream",
     "text": [
      "\u001b[1m1/1\u001b[0m \u001b[32m━━━━━━━━━━━━━━━━━━━━\u001b[0m\u001b[37m\u001b[0m \u001b[1m0s\u001b[0m 19ms/step\n",
      "\u001b[1m1/1\u001b[0m \u001b[32m━━━━━━━━━━━━━━━━━━━━\u001b[0m\u001b[37m\u001b[0m \u001b[1m0s\u001b[0m 10ms/step\n",
      "\u001b[1m1/1\u001b[0m \u001b[32m━━━━━━━━━━━━━━━━━━━━\u001b[0m\u001b[37m\u001b[0m \u001b[1m0s\u001b[0m 9ms/step\n",
      "\u001b[1m1/1\u001b[0m \u001b[32m━━━━━━━━━━━━━━━━━━━━\u001b[0m\u001b[37m\u001b[0m \u001b[1m0s\u001b[0m 11ms/step\n",
      "\u001b[1m1/1\u001b[0m \u001b[32m━━━━━━━━━━━━━━━━━━━━\u001b[0m\u001b[37m\u001b[0m \u001b[1m0s\u001b[0m 10ms/step\n",
      "\u001b[1m1/1\u001b[0m \u001b[32m━━━━━━━━━━━━━━━━━━━━\u001b[0m\u001b[37m\u001b[0m \u001b[1m0s\u001b[0m 9ms/step\n",
      "\n",
      "probabilites:\n",
      "[0.010986943, 0.075858176, 0.37754068, 0.8175745, 0.97068775, 0.99592984]\n",
      "\n",
      "predictions:\n",
      "[0, 0, 0, 1, 1, 1]\n"
     ]
    }
   ],
   "source": [
    "# model prediction will output probabilities:\n",
    "a = [model.predict(ele.reshape(1,1)) for ele in X_train]\n",
    "print(f\"\\nprobabilites:\\n{[p[0][0] for p in a]}\")\n",
    "print(f\"\\npredictions:\\n{[0 if p[0][0]<= 0.5 else 1 for p in a]}\")"
   ]
  },
  {
   "cell_type": "code",
   "execution_count": 3,
   "metadata": {},
   "outputs": [],
   "source": [
    "def sigmoid(Z):\n",
    "    return 1/(1+np.exp(-Z))\n",
    "\n",
    "def dense(A_in, W, B):\n",
    "    # neural network layer using vectorisation:\n",
    "    Z = np.matmul(A_in, W) + B\n",
    "    A_out = sigmoid(Z)\n",
    "    return A_out"
   ]
  },
  {
   "cell_type": "code",
   "execution_count": null,
   "metadata": {},
   "outputs": [],
   "source": []
  }
 ],
 "metadata": {
  "kernelspec": {
   "display_name": ".venv",
   "language": "python",
   "name": "python3"
  },
  "language_info": {
   "codemirror_mode": {
    "name": "ipython",
    "version": 3
   },
   "file_extension": ".py",
   "mimetype": "text/x-python",
   "name": "python",
   "nbconvert_exporter": "python",
   "pygments_lexer": "ipython3",
   "version": "3.9.6"
  }
 },
 "nbformat": 4,
 "nbformat_minor": 2
}
